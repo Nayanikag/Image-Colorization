{
 "cells": [
  {
   "cell_type": "code",
   "execution_count": 12,
   "metadata": {},
   "outputs": [],
   "source": [
    "## Imports\n",
    "\n",
    "import torch\n",
    "import torchvision\n",
    "from PIL import Image, ImageMath\n",
    "import glob\n",
    "import cv2\n",
    "from torch.utils.data.dataset import Dataset\n",
    "import random\n",
    "import numpy as np\n",
    "import matplotlib.pyplot as plt \n",
    "%matplotlib inline\n",
    "import torch.nn as nn\n",
    "import torch.nn.functional as F"
   ]
  },
  {
   "cell_type": "code",
   "execution_count": 16,
   "metadata": {},
   "outputs": [],
   "source": [
    "# Define device for Cuda\n",
    "# useTanh - Flag to train & test model for optional credit 1(use tanh in output layer)\n",
    "# By default, usetanh= False, meaning running this program trains and test the colorization(without Tanh)\n",
    "\n",
    "device = torch.device('cuda' if torch.cuda.is_available() else 'cpu')\n",
    "useTanh = False"
   ]
  },
  {
   "cell_type": "code",
   "execution_count": 14,
   "metadata": {},
   "outputs": [],
   "source": [
    "# Network for main assignment\n",
    "class ColorNetwork(nn.Module):\n",
    "  def __init__(self):\n",
    "    super(ColorNetwork, self).__init__()\n",
    "    \n",
    "    self.layers = nn.Sequential(\n",
    "        nn.Conv2d(1,16,kernel_size=3,stride=2),\n",
    "        nn.BatchNorm2d(16),\n",
    "        nn.LeakyReLU(),\n",
    "        nn.Conv2d(16,32,kernel_size=3,stride=2),\n",
    "        nn.BatchNorm2d(32),\n",
    "        nn.LeakyReLU(),\n",
    "        nn.Conv2d(32,64,kernel_size=3,stride=2),\n",
    "        nn.BatchNorm2d(64),\n",
    "        nn.LeakyReLU(),\n",
    "        nn.Conv2d(64,128,kernel_size=3,stride=2),\n",
    "        nn.BatchNorm2d(128),\n",
    "        nn.LeakyReLU(),\n",
    "        nn.Conv2d(128,256,kernel_size=3,stride=2),\n",
    "        nn.BatchNorm2d(256),\n",
    "        nn.LeakyReLU(),\n",
    "        # Deconvolution\n",
    "\n",
    "        nn.ConvTranspose2d(256, 128, kernel_size=3,stride=2),\n",
    "        nn.BatchNorm2d(128),\n",
    "        nn.LeakyReLU(),\n",
    "        nn.ConvTranspose2d(128, 64, kernel_size=3,stride=2),\n",
    "        nn.BatchNorm2d(64),\n",
    "        nn.LeakyReLU(),\n",
    "        nn.ConvTranspose2d(64, 32, kernel_size=3,stride=2),\n",
    "        nn.BatchNorm2d(32),\n",
    "        nn.LeakyReLU(),\n",
    "        nn.ConvTranspose2d(32, 16, kernel_size=3,stride=2),\n",
    "        nn.BatchNorm2d(16),\n",
    "        nn.LeakyReLU(),\n",
    "        nn.ConvTranspose2d(16, 2, kernel_size=3,stride=2, output_padding=1),\n",
    "    )\n",
    "\n",
    "  def forward(self, inputVal):\n",
    "      inputVal = self.layers(inputVal)       \n",
    "      return inputVal"
   ]
  },
  {
   "cell_type": "code",
   "execution_count": null,
   "metadata": {},
   "outputs": [],
   "source": [
    "# load the model that will be used for testing\n",
    "model = ColorNetwork().to(device)\n",
    "if useTanh == False:\n",
    "    model.load_state_dict(torch.load(\"Network3.pt\"))\n",
    "else:\n",
    "    model.load_state_dict(torch.load(\"Tanh.pt\"))\n",
    "criterion = nn.MSELoss()\n",
    "model.eval()"
   ]
  },
  {
   "cell_type": "code",
   "execution_count": null,
   "metadata": {},
   "outputs": [],
   "source": [
    "# Utility function to convert RGB to lab image\n",
    "# Post conversion, returns normalised L, a & b channels\n",
    "\n",
    "def convertRGBToLAB(img):\n",
    "  lab = cv2.cvtColor(img, cv2.COLOR_BGR2LAB).astype(\"float32\")\n",
    "  l,a,b = cv2.split(lab)\n",
    "  l = l/100\n",
    "  # Optional credit(OC)\n",
    "  if useTanh == True:\n",
    "    a = a/128\n",
    "    b = b/128\n",
    "  return (l, a, b)"
   ]
  },
  {
   "cell_type": "code",
   "execution_count": null,
   "metadata": {},
   "outputs": [],
   "source": [
    "# Custom Dataset that applies random scale, random horizontal flip and\n",
    "# random crop to each train image 10 times. This custom class is reused for test loader too.\n",
    "# Resize each augmented/ test image to 128x128\n",
    "\n",
    "class ColorDataset(Dataset):\n",
    "  def __init__(self, folder_path, transform=None, ran=None):\n",
    "    self.image_list = glob.glob(folder_path)\n",
    "    self.transform = transform\n",
    "    self.T = []\n",
    "    for img in self.image_list:\n",
    "      single_img = Image.open(img)\n",
    "      #single_img = (torchvision.transforms.ToTensor()(single_img)).float()\n",
    "      if self.transform !=None:\n",
    "        if ran != None: \n",
    "          for i in range(10):\n",
    "            tran = self.transform(single_img)\n",
    "            l,a,b = convertRGBToLAB(np.asarray(tran.permute(1,2,0)))\n",
    "            self.T.append((l,a,b))\n",
    "        else:\n",
    "          #single_img = (torchvision.transforms.ToTensor()(single_img)).float()\n",
    "          tran = self.transform(single_img)\n",
    "          l,a,b = convertRGBToLAB(np.asarray(tran.permute(1,2,0)))\n",
    "          self.T.append((l,a,b))\n",
    "\n",
    "    self.data_len = len(self.T)\n",
    "       \n",
    "  def __getitem__(self, index):\n",
    "    return self.T[index]\n",
    "\n",
    "  def __len__(self):\n",
    "    return self.data_len"
   ]
  },
  {
   "cell_type": "code",
   "execution_count": null,
   "metadata": {
    "executionInfo": {
     "elapsed": 2378,
     "status": "ok",
     "timestamp": 1605329923382,
     "user": {
      "displayName": "Nayanika Ghosh",
      "photoUrl": "https://lh3.googleusercontent.com/a-/AOh14GgR8NE1oiRTfjCKCyg-LXIr4QvDYojVj4DPv4GODQ=s64",
      "userId": "01179948140621127280"
     },
     "user_tz": 300
    },
    "id": "wYas1nf1uqNV"
   },
   "outputs": [],
   "source": [
    "# Load the test data and resize it to 128x128\n",
    "\n",
    "test_transforms = torchvision.transforms.Compose([\n",
    "    torchvision.transforms.Resize(128),\n",
    "    torchvision.transforms.ToTensor()\n",
    "])\n",
    "test_dir = \"blue_cis6930/nghosh/Test/*\"\n",
    "dataset_test = ColorDataset(test_dir, test_transforms)\n",
    "\n",
    "test_loader = torch.utils.data.DataLoader(dataset=dataset_test, batch_size=10)\n"
   ]
  },
  {
   "cell_type": "code",
   "execution_count": null,
   "metadata": {},
   "outputs": [],
   "source": [
    "# Display Test predicted colored image after merging ab with rescaled L\n",
    "# Plot grayscale L, predicted colored and original RGB from left to right\n",
    "\n",
    "from skimage import color\n",
    "\n",
    "def DisplayFinalImage(testgray, predValues, targetVals):\n",
    "  lab_pred = torch.cat((testgray,predValues), dim=1).cpu().detach().numpy()\n",
    "  lab_pred = lab_pred.transpose(0,2,3,1)\n",
    "  lab_pred[:, :, :, 0:1] = lab_pred[:, :, :, 0:1] * 100\n",
    "  lab_tar = torch.cat((testgray,targetVals), dim=1).cpu().detach().numpy()\n",
    "  lab_tar = lab_tar.transpose(0,2,3,1)\n",
    "  lab_tar[:, :, :, 0:1] = lab_tar[:, :, :, 0:1] * 100\n",
    "  if useTanh == True:\n",
    "    lab_pred[:, :, :, 1:3] = lab_pred[:, :, :, 1:3] * 128\n",
    "    lab_tar[:, :, :, 1:3] = lab_tar[:, :, :, 1:3] * 128\n",
    "  plt.axis('off')\n",
    "  for i in range(lab_pred.shape[0]-1):\n",
    "    pred_rgb=cv2.cvtColor(lab_pred[i], cv2.COLOR_LAB2BGR).astype(\"float64\")\n",
    "    tar_rgb=cv2.cvtColor(lab_tar[i], cv2.COLOR_LAB2BGR).astype(\"float64\")\n",
    "    plt.subplot(1,3, 1)\n",
    "    plt.imshow(torch.squeeze(testgray[i]).cpu().detach().numpy(), cmap='gray')\n",
    "    plt.title(\"Grayscale(L)\")\n",
    "    plt.subplot(1,3, 2)\n",
    "    plt.imshow(pred_rgb)\n",
    "    plt.title(\"Predicted Colorization\")\n",
    "    plt.subplot(1,3, 3)\n",
    "    plt.imshow(tar_rgb)\n",
    "    plt.title(\"Original image\")\n",
    "    plt.show()"
   ]
  },
  {
   "cell_type": "code",
   "execution_count": null,
   "metadata": {},
   "outputs": [],
   "source": [
    "# Function to test the colorization network\n",
    "\n",
    "def validate(grayImage, targetVals_test, criterion, model):\n",
    "  model.eval()\n",
    "  predValues = model(grayImage)\n",
    "  DisplayFinalImage(grayImage, predValues, targetVals_test)\n",
    "  loss_test = criterion(predValues, targetVals_test)\n",
    "  return loss_test"
   ]
  },
  {
   "cell_type": "code",
   "execution_count": null,
   "metadata": {},
   "outputs": [],
   "source": [
    "# For each loaded test image, run it through the trained medel to get the predicted ab \n",
    "# and report the total average incurred loss for all test images\n",
    "\n",
    "total_loss = 0.0\n",
    "for test_img,a_test,b_test in test_loader:\n",
    "  a = torch.unsqueeze(a_test, 1)\n",
    "  b = torch.unsqueeze(b_test, 1)\n",
    "  targetValues = torch.cat((a, b), dim=1)\n",
    "  test_img = torch.unsqueeze(test_img , 1)\n",
    "  loss = validate(test_img.to(device),targetValues.to(device),criterion,model)\n",
    "  total_loss += loss\n",
    "avg_loss = total_loss/ len(test_loader)\n",
    "print(\"Average loss incurred with Test data is \", avg_loss)"
   ]
  }
 ],
 "metadata": {
  "kernelspec": {
   "display_name": "Python 3.6. (full)",
   "language": "python",
   "name": "python3-3.6-ufrc"
  },
  "language_info": {
   "codemirror_mode": {
    "name": "ipython",
    "version": 3
   },
   "file_extension": ".py",
   "mimetype": "text/x-python",
   "name": "python",
   "nbconvert_exporter": "python",
   "pygments_lexer": "ipython3",
   "version": "3.6.5"
  }
 },
 "nbformat": 4,
 "nbformat_minor": 4
}
